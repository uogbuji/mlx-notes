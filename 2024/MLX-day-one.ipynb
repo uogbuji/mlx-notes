{
 "cells": [
  {
   "cell_type": "markdown",
   "id": "2c6807f7",
   "metadata": {},
   "source": [
    "![Google Gemini-generated cover image](../assets/images/2024/Apple-MLX-GeminiGen-cropped.jpg)\n",
    "\n",
    "# Apple MLX for AI/Large Language Models—Day One\n",
    "\n",
    "_Author: Uche Ogbuji_\n",
    "\n",
    "I've been using llama.cpp on Mac Silicon for months now, and [my brother, Chimezie](https://huggingface.co/cogbuji) has been nudging me to give [MLX](https://github.com/ml-explore/mlx) a go.\n",
    "I finally set aside time today to get started, with an eventual goal of adding support for MLX model loading & usage in [OgbujiPT](https://github.com/OoriData/OgbujiPT). I'd been warned it's rough around the edges, but it's been stimulating to play with. I thought I'd capture some of my notes, including some pitfalls I ran into, which might help anyone else trying to get into MLX in its current state.\n",
    "\n",
    "As a quick bit of background I'll mention that MLX is very interesting because honestly, Apple has the most coherently engineered consumer and small-business-level hardware for AI workloads, with Apple Silicon and its unified memory. The news lately is all about Apple's AI fumbles, but I suspect their clever plan is to empower a community of developers to take the arrows in their back and build things out for them. The MLX community is already an absolute machine, a fact Chimezie spotted early on. If like me you're trying to develop products on this new frontier without abdicating the engineering to separate, black-box providers, MLX is a compelling avenue.\n",
    "\n",
    "![Black Panther Meme: \"Open source LLMs are a waste of time; just use ChatGPT\" / \"We don't do that here\"](../assets/images/2024/black-panther-hulk-cover-open-source-llm-800x500.jpg)\n",
    "\n",
    "My initial forays will just be into inferencing, which should complement the large amount of solid community work in MLX fine-tuning and other more advanced topics. There's plenty of nuance to dig into just on the inference side, though.\n",
    "As I was warned, it's clear that MLX is developing with great velocity, even by contemporary AI standards, so just as some resources I found from six weeks ago were already out of date, this could also well be by the time you come across it. I'll try to update and continue taking notes on developments as I go along, though.\n",
    "\n",
    "First of all, I installed the mlx_lm package for Python, following the [instructions from HuggingFace](https://huggingface.co/docs/hub/en/mlx). After switching to a suitable Python virtual environment:"
   ]
  },
  {
   "cell_type": "code",
   "execution_count": 1,
   "id": "4883f0fd",
   "metadata": {},
   "outputs": [
    {
     "name": "stdout",
     "output_type": "stream",
     "text": [
      "Requirement already satisfied: mlx-lm in /Users/uche/.local/venv/ogpt/lib/python3.11/site-packages (0.3.0)\n",
      "Requirement already satisfied: mlx>=0.6 in /Users/uche/.local/venv/ogpt/lib/python3.11/site-packages (from mlx-lm) (0.6.0)\n",
      "Requirement already satisfied: numpy in /Users/uche/.local/venv/ogpt/lib/python3.11/site-packages (from mlx-lm) (1.26.2)\n",
      "Requirement already satisfied: transformers>=4.38.0 in /Users/uche/.local/venv/ogpt/lib/python3.11/site-packages (from mlx-lm) (4.38.2)\n",
      "Requirement already satisfied: protobuf in /Users/uche/.local/venv/ogpt/lib/python3.11/site-packages (from mlx-lm) (4.25.1)\n",
      "Requirement already satisfied: pyyaml in /Users/uche/.local/venv/ogpt/lib/python3.11/site-packages (from mlx-lm) (6.0.1)\n",
      "Requirement already satisfied: filelock in /Users/uche/.local/venv/ogpt/lib/python3.11/site-packages (from transformers>=4.38.0->mlx-lm) (3.13.1)\n",
      "Requirement already satisfied: huggingface-hub<1.0,>=0.19.3 in /Users/uche/.local/venv/ogpt/lib/python3.11/site-packages (from transformers>=4.38.0->mlx-lm) (0.19.4)\n",
      "Requirement already satisfied: packaging>=20.0 in /Users/uche/.local/venv/ogpt/lib/python3.11/site-packages (from transformers>=4.38.0->mlx-lm) (23.2)\n",
      "Requirement already satisfied: regex!=2019.12.17 in /Users/uche/.local/venv/ogpt/lib/python3.11/site-packages (from transformers>=4.38.0->mlx-lm) (2023.10.3)\n",
      "Requirement already satisfied: requests in /Users/uche/.local/venv/ogpt/lib/python3.11/site-packages (from transformers>=4.38.0->mlx-lm) (2.31.0)\n",
      "Requirement already satisfied: tokenizers<0.19,>=0.14 in /Users/uche/.local/venv/ogpt/lib/python3.11/site-packages (from transformers>=4.38.0->mlx-lm) (0.15.0)\n",
      "Requirement already satisfied: safetensors>=0.4.1 in /Users/uche/.local/venv/ogpt/lib/python3.11/site-packages (from transformers>=4.38.0->mlx-lm) (0.4.1)\n",
      "Requirement already satisfied: tqdm>=4.27 in /Users/uche/.local/venv/ogpt/lib/python3.11/site-packages (from transformers>=4.38.0->mlx-lm) (4.66.1)\n",
      "Requirement already satisfied: fsspec>=2023.5.0 in /Users/uche/.local/venv/ogpt/lib/python3.11/site-packages (from huggingface-hub<1.0,>=0.19.3->transformers>=4.38.0->mlx-lm) (2023.12.1)\n",
      "Requirement already satisfied: typing-extensions>=3.7.4.3 in /Users/uche/.local/venv/ogpt/lib/python3.11/site-packages (from huggingface-hub<1.0,>=0.19.3->transformers>=4.38.0->mlx-lm) (4.8.0)\n",
      "Requirement already satisfied: charset-normalizer<4,>=2 in /Users/uche/.local/venv/ogpt/lib/python3.11/site-packages (from requests->transformers>=4.38.0->mlx-lm) (3.3.2)\n",
      "Requirement already satisfied: idna<4,>=2.5 in /Users/uche/.local/venv/ogpt/lib/python3.11/site-packages (from requests->transformers>=4.38.0->mlx-lm) (3.6)\n",
      "Requirement already satisfied: urllib3<3,>=1.21.1 in /Users/uche/.local/venv/ogpt/lib/python3.11/site-packages (from requests->transformers>=4.38.0->mlx-lm) (1.26.18)\n",
      "Requirement already satisfied: certifi>=2017.4.17 in /Users/uche/.local/venv/ogpt/lib/python3.11/site-packages (from requests->transformers>=4.38.0->mlx-lm) (2023.11.17)\n",
      "Note: you may need to restart the kernel to use updated packages.\n"
     ]
    }
   ],
   "source": [
    "%pip install mlx-lm"
   ]
  },
  {
   "cell_type": "markdown",
   "id": "e573fb5e",
   "metadata": {},
   "source": [
    "Later on, it became clear that I probably wanted to keep closer to the cutting edge, so I pulled from github instead:\n",
    "\n",
    "```sh\n",
    "git clone https://github.com/ml-explore/mlx-examples.git\n",
    "cd mlx-examples/llms\n",
    "pip install -U .\n",
    "```"
   ]
  },
  {
   "cell_type": "markdown",
   "id": "bf40c1df",
   "metadata": {},
   "source": [
    "All I needed was a model to try out. On llama.cpp my go-to has been [OpenHermes-2.5-Mistral-7B](https://huggingface.co/teknium/OpenHermes-2.5-Mistral-7B), so my first move was to try to run that on MLX. I had read MLX gained limited GGUF model file format support recently, with limited support for quantization outputs. If this sentence has been gobbledygook to you,\n",
    "I recommend you pause, [read this useful, llama.cpp-centered tutorial](https://christophergs.com/blog/running-open-source-llms-in-python), and come back. These concepts will be useful to you no matter what AI/LLM framework you end up using.\n",
    "\n",
    "I naively just tried to load my already downloaded GGUF using `mlx_lm.load()`, but clearly wanted a `safetensors` distribution. I looked around some more and found the [GGUF](https://github.com/ml-explore/mlx-examples/tree/main/llms/gguf_llm) examples, but it was clear this was off the beaten path, and Chimezie soon told me the usual approach is to use MLX-specific models, which I can easily convert myself from regular model weights, or I can find pre-converted weights in the [mlx-community space](https://huggingface.co/mlx-community).\n",
    "The first/obvious such repository I found matching OpenHermes-2.5-Mistral-7B was `mlx-community/OpenHermes-2.5-Mistral-7B`, but MLX refused to load it, and indeed it's an outdated model without  `safetensors`. It used the `.NPZ` format, which seems to be out of date and [yet is still referenced in the docs](https://ml-explore.github.io/mlx/build/html/examples/llama-inference.html#converting-the-weights).\n",
    "\n",
    "![Just a bit of steam blow-off from the wild goose chase (not ashamed of the mixed metaphor 😆)\n",
    "](../assets/images/2024/construction-joke-meme.jpg)\n",
    "\n",
    "A better choice turned out to be [`mlx-community/OpenHermes-2.5-Mistral-7B-4bit-mlx`](https://huggingface.co/mlx-community/OpenHermes-2.5-Mistral-7B-4bit-mlx)."
   ]
  },
  {
   "cell_type": "code",
   "execution_count": 2,
   "id": "1a102628",
   "metadata": {},
   "outputs": [
    {
     "data": {
      "application/vnd.jupyter.widget-view+json": {
       "model_id": "a3215b3afd724e4e9124efa6abc3b31d",
       "version_major": 2,
       "version_minor": 0
      },
      "text/plain": [
       "Fetching 8 files:   0%|          | 0/8 [00:00<?, ?it/s]"
      ]
     },
     "metadata": {},
     "output_type": "display_data"
    },
    {
     "name": "stderr",
     "output_type": "stream",
     "text": [
      "Special tokens have been added in the vocabulary, make sure the associated word embeddings are fine-tuned or trained.\n"
     ]
    }
   ],
   "source": [
    "from mlx_lm import load, generate\n",
    "\n",
    "model, tokenizer = load('mlx-community/OpenHermes-2.5-Mistral-7B-4bit-mlx')"
   ]
  },
  {
   "cell_type": "markdown",
   "id": "b645a65a",
   "metadata": {},
   "source": [
    "\n",
    "The first time you run this load it will download from HuggingFace. The repository will be cached, by default in `~/.cache/huggingface/hub`, so subsequent loads will be much faster. Quick completion/generation example:"
   ]
  },
  {
   "cell_type": "code",
   "execution_count": 3,
   "id": "e0bdbad7",
   "metadata": {},
   "outputs": [
    {
     "name": "stdout",
     "output_type": "stream",
     "text": [
      "==========\n",
      "Prompt: A fun limerick about four-leaf clovers is:\n",
      "\n",
      "\n",
      "There once was a leprechaun named Joe\n",
      "Who found a four-leaf clover, you know\n",
      "He rubbed it and wished\n",
      "For a pot of gold, oh my!\n",
      "And now he's the luckiest leprechaun in town.\n",
      "\n",
      "This limerick is a playful and lighthearted way to celebrate the luck of the Irish and the mythical four-leaf clover. The rhyme scheme and rhythm make it easy to remember and\n",
      "==========\n",
      "Prompt: 13.374 tokens-per-sec\n",
      "Generation: 37.459 tokens-per-sec\n",
      "\n",
      "\n",
      "There once was a leprechaun named Joe\n",
      "Who found a four-leaf clover, you know\n",
      "He rubbed it and wished\n",
      "For a pot of gold, oh my!\n",
      "And now he's the luckiest leprechaun in town.\n",
      "\n",
      "This limerick is a playful and lighthearted way to celebrate the luck of the Irish and the mythical four-leaf clover. The rhyme scheme and rhythm make it easy to remember and\n"
     ]
    }
   ],
   "source": [
    "response = generate(model, tokenizer, prompt=\"A fun limerick about four-leaf clovers is:\", verbose=True)\n",
    "print(response)"
   ]
  },
  {
   "cell_type": "markdown",
   "id": "6d1d7869",
   "metadata": {},
   "source": [
    "\n",
    "You should see the completion response being streamed. I got a truly terrible limerick. Your mileage may very.\n",
    "\n",
    "You can also use [ChatML-style interaction](https://huggingface.co/docs/transformers/main/en/chat_templating):"
   ]
  },
  {
   "cell_type": "code",
   "execution_count": 4,
   "id": "5e44937a",
   "metadata": {},
   "outputs": [
    {
     "name": "stdout",
     "output_type": "stream",
     "text": [
      "==========\n",
      "Prompt: <|im_start|>system\n",
      "You are a friendly chatbot who always responds in the style of a talk show host<|im_end|>\n",
      "<|im_start|>user\n",
      "Do you have any advice for a fresh graduate?<|im_end|>\n",
      "\n",
      "\n",
      "Chatbot: Welcome to the real world, my friend! It's a big, beautiful, and sometimes scary place. But don't worry, I've got some advice that'll help you navigate these waters.\n",
      "\n",
      "First things first, don't be afraid to ask for help. Whether it's from a mentor, a colleague, or even me, your friendly chatbot, don't be shy to reach out. We've all been there\n",
      "==========\n",
      "Prompt: 162.485 tokens-per-sec\n",
      "Generation: 38.943 tokens-per-sec\n"
     ]
    }
   ],
   "source": [
    "messages = [\n",
    "  {'role': 'system', 'content': 'You are a friendly chatbot who always responds in the style of a talk show host'},\n",
    "  {'role': 'user', 'content': 'Do you have any advice for a fresh graduate?'}]\n",
    "chat_prompt = tokenizer.apply_chat_template(messages, tokenize=False)\n",
    "response = generate(model, tokenizer, prompt=chat_prompt, verbose=True)"
   ]
  },
  {
   "cell_type": "markdown",
   "id": "79703aad",
   "metadata": {},
   "source": [
    "`response` is the plain old string with the LLM completion/response. It will already have been streamed to the console thanks to `verbose=True`, right after the converted prompt, displayed so you can see how the ChatML format has been converted using special, low-level LLM tokens such as `<|im_start|>` & `<|im_end|>`. Having the system message in the chat prompting and all that definitely, by my quick impressions, made the interactions far more coherent.\n",
    "\n",
    "![Animation of generate() chat response](../assets/images/2024/apple-mlx-ail-llm-day-one.gif)\n",
    "\n",
    "That's as far as I got in a few hours of probing yesterday, but as I said, I'll keep the notes coming as I learn more. Next I plan to start thinking about how to incorporate what I've learned into OgbujiPT.\n",
    "\n",
    "Plug: As I've suggested, Chimezie has blazed this trail before me, and was quite helpful. You can check out the work he's already shared with the MLX community, such as his [Mr. Grammatology medical/clinical LLM fine-tune](https://huggingface.co/cogbuji/Mr-Grammatology-clinical-problems-Mistral-7B-0.5), and [mlx-tuning-fork](https://github.com/chimezie/mlx-tuning-fork), his framework for (Q)LoRa fine-tuning with MLX. [His work is featured in the brand new Oori Data HuggingFace organization page.](https://huggingface.co/OoriData)."
   ]
  }
 ],
 "metadata": {
  "jupytext": {
   "cell_metadata_filter": "-all",
   "main_language": "sh",
   "notebook_metadata_filter": "-all"
  },
  "kernelspec": {
   "display_name": "ogpt",
   "language": "python",
   "name": "python3"
  },
  "language_info": {
   "codemirror_mode": {
    "name": "ipython",
    "version": 3
   },
   "file_extension": ".py",
   "mimetype": "text/x-python",
   "name": "python",
   "nbconvert_exporter": "python",
   "pygments_lexer": "ipython3",
   "version": "3.11.6"
  }
 },
 "nbformat": 4,
 "nbformat_minor": 5
}
